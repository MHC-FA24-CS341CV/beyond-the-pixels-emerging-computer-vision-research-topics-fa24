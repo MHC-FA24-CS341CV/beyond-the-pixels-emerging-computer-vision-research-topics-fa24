{
  "cells": [
    {
      "cell_type": "markdown",
      "metadata": {
        "id": "view-in-github",
        "colab_type": "text"
      },
      "source": [
        "<a href=\"https://colab.research.google.com/github/MHC-FA24-CS341CV/beyond-the-pixels-emerging-computer-vision-research-topics-fa24/blob/main/GLIDE_Inpainting.ipynb\" target=\"_parent\"><img src=\"https://colab.research.google.com/assets/colab-badge.svg\" alt=\"Open In Colab\"/></a>"
      ]
    },
    {
      "cell_type": "markdown",
      "metadata": {
        "id": "ZMQbfvv-jwW2"
      },
      "source": [
        "# Image Inpainting Using GLIDE\n",
        "A more user friendly notebook derived from the original in the **glide-text2im** GitHub repo, that shows how to use filtered GLIDE to fill in a masked region of an image, conditioned on a text prompt.  \n",
        "Here's the [link](https://arxiv.org/abs/2112.10741) to the paper.  \n",
        "The code in this notebook supports execution on CPU or GPU. Anyway, A GPU runtime is suggested to keep the sampling execution within a minute."
      ]
    },
    {
      "cell_type": "markdown",
      "metadata": {
        "id": "T9f73reUSHn2"
      },
      "source": [
        "Clone the official GitHub repository."
      ]
    },
    {
      "cell_type": "code",
      "execution_count": null,
      "metadata": {
        "id": "AIZYZvT2R_RH",
        "colab": {
          "base_uri": "https://localhost:8080/"
        },
        "outputId": "2c58c284-3bfa-4aa0-b0b3-59f1ac2db78a"
      },
      "outputs": [
        {
          "output_type": "stream",
          "name": "stdout",
          "text": [
            "Cloning into 'glide-text2im'...\n",
            "remote: Enumerating objects: 76, done.\u001b[K\n",
            "remote: Counting objects: 100% (44/44), done.\u001b[K\n",
            "remote: Compressing objects: 100% (22/22), done.\u001b[K\n",
            "remote: Total 76 (delta 26), reused 22 (delta 22), pack-reused 32 (from 1)\u001b[K\n",
            "Receiving objects: 100% (76/76), 2.01 MiB | 7.77 MiB/s, done.\n",
            "Resolving deltas: 100% (29/29), done.\n",
            "/content/glide-text2im\n"
          ]
        }
      ],
      "source": [
        "!git clone https://github.com/openai/glide-text2im.git\n",
        "%cd glide-text2im"
      ]
    },
    {
      "cell_type": "markdown",
      "metadata": {
        "id": "N2QZqjEXWyhN"
      },
      "source": [
        "## Settings"
      ]
    },
    {
      "cell_type": "markdown",
      "metadata": {
        "id": "3O5OznGaSSBJ"
      },
      "source": [
        "Add the *glide_text2im* package to the Python *sys.path*."
      ]
    },
    {
      "cell_type": "code",
      "execution_count": null,
      "metadata": {
        "id": "3-8hwE5cSr1n",
        "colab": {
          "base_uri": "https://localhost:8080/"
        },
        "outputId": "6a2a2f99-5a9e-45b6-f0d3-067007527fcb"
      },
      "outputs": [
        {
          "output_type": "stream",
          "name": "stdout",
          "text": [
            "env: PYTHONPATH=/content/packnet-sfm/packnet_sfm:/env/python\n"
          ]
        }
      ],
      "source": [
        "%set_env PYTHONPATH=/content/packnet-sfm/packnet_sfm:/env/python"
      ]
    },
    {
      "cell_type": "markdown",
      "metadata": {
        "id": "IZNoPts9SvVJ"
      },
      "source": [
        "Import the necessary packages."
      ]
    },
    {
      "cell_type": "code",
      "execution_count": null,
      "metadata": {
        "id": "VaeYcyq3S0UR"
      },
      "outputs": [],
      "source": [
        "from typing import Tuple\n",
        "\n",
        "from IPython.display import display\n",
        "from PIL import Image\n",
        "import numpy as np\n",
        "import torch as th\n",
        "import torch.nn.functional as F\n",
        "\n",
        "from glide_text2im.download import load_checkpoint\n",
        "from glide_text2im.model_creation import (\n",
        "    create_model_and_diffusion,\n",
        "    model_and_diffusion_defaults,\n",
        "    model_and_diffusion_defaults_upsampler\n",
        ")"
      ]
    },
    {
      "cell_type": "markdown",
      "metadata": {
        "id": "VuLb5NfiS1VK"
      },
      "source": [
        "Check if a GPU is available. If not, switch execution to CPU."
      ]
    },
    {
      "cell_type": "code",
      "execution_count": null,
      "metadata": {
        "id": "8jq10BXUS97J"
      },
      "outputs": [],
      "source": [
        "has_cuda = th.cuda.is_available()\n",
        "device = th.device('cpu' if not has_cuda else 'cuda')"
      ]
    },
    {
      "cell_type": "markdown",
      "metadata": {
        "id": "oErVTPidS_Yw"
      },
      "source": [
        "Create the base model."
      ]
    },
    {
      "cell_type": "code",
      "execution_count": 5,
      "metadata": {
        "id": "y3ADJSU4TDf9",
        "colab": {
          "base_uri": "https://localhost:8080/",
          "height": 123,
          "referenced_widgets": [
            "c6527135082946b091dceed095520210",
            "0bcffa76e96c4c1db25f56d54a8a922c",
            "35af0c32645e4b3a86c17c1dcdf3c8f4",
            "ad93da34f678488fbe8e3a160532c663",
            "93132e6531284af98ad02b62866bbcb3",
            "3fa8f5dece854bc7bf557faa24dabdba",
            "ca0ea006318e46759b295dbba008cb68",
            "d44742b5b52c4cc29c36a2fb6d2291bf",
            "64193c653054451ab5e73287361e780a",
            "ba21beef146f4b89a13dae47b0ad317e",
            "5e1ebd21240c45d9ba258443cefed693"
          ]
        },
        "outputId": "b8636f62-0949-437c-9449-5494feb35ed3"
      },
      "outputs": [
        {
          "data": {
            "application/vnd.jupyter.widget-view+json": {
              "model_id": "c6527135082946b091dceed095520210",
              "version_major": 2,
              "version_minor": 0
            },
            "text/plain": [
              "  0%|          | 0.00/1.54G [00:00<?, ?iB/s]"
            ]
          },
          "metadata": {},
          "output_type": "display_data"
        },
        {
          "output_type": "stream",
          "name": "stderr",
          "text": [
            "/content/glide-text2im/glide_text2im/download.py:71: FutureWarning: You are using `torch.load` with `weights_only=False` (the current default value), which uses the default pickle module implicitly. It is possible to construct malicious pickle data which will execute arbitrary code during unpickling (See https://github.com/pytorch/pytorch/blob/main/SECURITY.md#untrusted-models for more details). In a future release, the default value for `weights_only` will be flipped to `True`. This limits the functions that could be executed during unpickling. Arbitrary objects will no longer be allowed to be loaded via this mode unless they are explicitly allowlisted by the user via `torch.serialization.add_safe_globals`. We recommend you start setting `weights_only=True` for any use case where you don't have full control of the loaded file. Please open an issue on GitHub for any issues related to this experimental feature.\n",
            "  return th.load(path, map_location=device)\n"
          ]
        },
        {
          "output_type": "stream",
          "name": "stdout",
          "text": [
            "total base parameters 385037638\n"
          ]
        }
      ],
      "source": [
        "options = model_and_diffusion_defaults()\n",
        "options['inpaint'] = True\n",
        "options['use_fp16'] = has_cuda\n",
        "options['timestep_respacing'] = '100' # use 100 diffusion steps for fast sampling\n",
        "model, diffusion = create_model_and_diffusion(**options)\n",
        "model.eval()\n",
        "if has_cuda:\n",
        "    model.convert_to_fp16()\n",
        "model.to(device)\n",
        "model.load_state_dict(load_checkpoint('base-inpaint', device))\n",
        "print('total base parameters', sum(x.numel() for x in model.parameters()))"
      ]
    },
    {
      "cell_type": "markdown",
      "metadata": {
        "id": "6fLTKgY8TGYJ"
      },
      "source": [
        "Create the upsampler model."
      ]
    },
    {
      "cell_type": "code",
      "execution_count": null,
      "metadata": {
        "id": "9BNlNV07TKQD",
        "colab": {
          "base_uri": "https://localhost:8080/",
          "height": 49,
          "referenced_widgets": [
            "ba09b074c27845d8844d5ca70db083d9",
            "b428a188aa2f4df49848f76898d9846b",
            "a8f36f5a41354c2c8dce785158230b2b",
            "24ce1f81a92744568d95b3bb09742d2c",
            "be3fc6e8e8bf407f9f6df57d12e49c66",
            "d97213101322498986d3db3339ca5538",
            "52e69a13d4bc407bbe11fa514f1390f9",
            "6928d040b00e4ebab646e8370bdcd4b0",
            "7a3ddeb92f6e4a57b2f0c61039a2823f",
            "11bcf2ed96174227ad9411ab8b4b70ba",
            "475b51ae3012430b99be4dde9cee1f92"
          ]
        },
        "outputId": "73fea345-2f29-4a02-98ea-1bc30372300f"
      },
      "outputs": [
        {
          "output_type": "display_data",
          "data": {
            "text/plain": [
              "  0%|          | 0.00/1.59G [00:00<?, ?iB/s]"
            ],
            "application/vnd.jupyter.widget-view+json": {
              "version_major": 2,
              "version_minor": 0,
              "model_id": "ba09b074c27845d8844d5ca70db083d9"
            }
          },
          "metadata": {}
        }
      ],
      "source": [
        "options_up = model_and_diffusion_defaults_upsampler()\n",
        "options_up['inpaint'] = True\n",
        "options_up['use_fp16'] = has_cuda\n",
        "options_up['timestep_respacing'] = 'fast27' # use 27 diffusion steps for very fast sampling\n",
        "model_up, diffusion_up = create_model_and_diffusion(**options_up)\n",
        "model_up.eval()\n",
        "if has_cuda:\n",
        "    model_up.convert_to_fp16()\n",
        "model_up.to(device)\n",
        "model_up.load_state_dict(load_checkpoint('upsample-inpaint', device))\n",
        "print('total upsampler parameters', sum(x.numel() for x in model_up.parameters()))"
      ]
    },
    {
      "cell_type": "markdown",
      "metadata": {
        "id": "KzXVsviiTO3E"
      },
      "source": [
        "Define a function to display a batch of images inline."
      ]
    },
    {
      "cell_type": "code",
      "execution_count": null,
      "metadata": {
        "id": "bN-w7hC8TRkF"
      },
      "outputs": [],
      "source": [
        "def show_images(batch: th.Tensor):\n",
        "    \"\"\" Display a batch of images inline. \"\"\"\n",
        "    scaled = ((batch + 1)*127.5).round().clamp(0,255).to(th.uint8).cpu()\n",
        "    reshaped = scaled.permute(2, 0, 3, 1).reshape([batch.shape[2], -1, 3])\n",
        "    display(Image.fromarray(reshaped.numpy()))"
      ]
    },
    {
      "cell_type": "markdown",
      "metadata": {
        "id": "mlqAJO4qTUax"
      },
      "source": [
        "Define a function to convert an image into a multi-dimentional array."
      ]
    },
    {
      "cell_type": "code",
      "execution_count": null,
      "metadata": {
        "id": "76QK_B7dTYMM"
      },
      "outputs": [],
      "source": [
        "def read_image(path: str, size: int = 256) -> Tuple[th.Tensor, th.Tensor]:\n",
        "    pil_img = Image.open(path).convert('RGB')\n",
        "    pil_img = pil_img.resize((size, size), resample=Image.BICUBIC)\n",
        "    img = np.array(pil_img)\n",
        "    return th.from_numpy(img)[None].permute(0, 3, 1, 2).float() / 127.5 - 1"
      ]
    },
    {
      "cell_type": "markdown",
      "metadata": {
        "id": "Ljae_saLTfgr"
      },
      "source": [
        "Upload the source image to impaint."
      ]
    },
    {
      "cell_type": "code",
      "execution_count": null,
      "metadata": {
        "id": "hz7-_1QITp_t"
      },
      "outputs": [],
      "source": [
        "from google.colab import files\n",
        "\n",
        "uploaded = files.upload()\n"
      ]
    },
    {
      "cell_type": "markdown",
      "metadata": {
        "id": "2cmdk6RaT1Dy"
      },
      "source": [
        "Implement a form to set the values for the sampling parameters."
      ]
    },
    {
      "cell_type": "code",
      "execution_count": null,
      "metadata": {
        "cellView": "form",
        "id": "A90pVV6PT1gT"
      },
      "outputs": [],
      "source": [
        "#@title Sampling Parameters\n",
        "\n",
        "prompt = \"\" #@param {type:\"string\"}\n",
        "batch_size = 1 #@param {type:\"slider\", min:1, max:8, step:1}\n",
        "guidance_scale = 3 #@param {type:\"slider\", min:1.0, max:10.0, step:0.1}\n",
        "upsample_temp = 0.997 #@param {type:\"slider\", min:0, max:1, step:0.1}"
      ]
    },
    {
      "cell_type": "markdown",
      "metadata": {
        "id": "L9s5WSAJWejr"
      },
      "source": [
        "Create the mask and display the source image with the mask on top of it."
      ]
    },
    {
      "cell_type": "code",
      "execution_count": null,
      "metadata": {
        "id": "cJtimuaGeq68"
      },
      "outputs": [],
      "source": [
        "for key in uploaded.keys():\n",
        "  uploaded_image = key"
      ]
    },
    {
      "cell_type": "code",
      "execution_count": null,
      "metadata": {
        "id": "UlPQpj6nWlHM"
      },
      "outputs": [],
      "source": [
        "# Source image we are inpainting\n",
        "source_image_256 = read_image(uploaded_image, size=256)\n",
        "source_image_64 = read_image(uploaded_image, size=64)\n",
        "\n",
        "# The mask should always be a boolean 64x64 mask, and then we\n",
        "# can upsample it for the second stage.\n",
        "source_mask_64 = th.ones_like(source_image_64)[:, :1]\n",
        "source_mask_64[:, :, 20:] = 0\n",
        "source_mask_256 = F.interpolate(source_mask_64, (256, 256), mode='nearest')\n",
        "\n",
        "# Visualize the image we are inpainting\n",
        "show_images(source_image_256 * source_mask_256)"
      ]
    },
    {
      "cell_type": "markdown",
      "metadata": {
        "id": "cfdsDX-JWtd5"
      },
      "source": [
        "## Sampling from Base Model"
      ]
    },
    {
      "cell_type": "markdown",
      "metadata": {
        "id": "DnM0txdxW3ov"
      },
      "source": [
        "Create the text tokens to feed to the model."
      ]
    },
    {
      "cell_type": "code",
      "execution_count": null,
      "metadata": {
        "id": "rV2-U096XHb3"
      },
      "outputs": [],
      "source": [
        "tokens = model.tokenizer.encode(prompt)\n",
        "tokens, mask = model.tokenizer.padded_tokens_and_mask(\n",
        "    tokens, options['text_ctx']\n",
        ")"
      ]
    },
    {
      "cell_type": "markdown",
      "metadata": {
        "id": "EeKnfzScXJdm"
      },
      "source": [
        "Create the empty classifier-free guidance tokens."
      ]
    },
    {
      "cell_type": "code",
      "execution_count": null,
      "metadata": {
        "id": "HTCglsCkXONe"
      },
      "outputs": [],
      "source": [
        "full_batch_size = batch_size * 2\n",
        "uncond_tokens, uncond_mask = model.tokenizer.padded_tokens_and_mask(\n",
        "    [], options['text_ctx']\n",
        ")"
      ]
    },
    {
      "cell_type": "markdown",
      "metadata": {
        "id": "Pi95RbBMXQco"
      },
      "source": [
        "Pack the tokens together into model *kwargs*."
      ]
    },
    {
      "cell_type": "code",
      "execution_count": null,
      "metadata": {
        "id": "SJA1GWcWXUEn"
      },
      "outputs": [],
      "source": [
        "model_kwargs = dict(\n",
        "    tokens=th.tensor(\n",
        "        [tokens] * batch_size + [uncond_tokens] * batch_size, device=device\n",
        "    ),\n",
        "    mask=th.tensor(\n",
        "        [mask] * batch_size + [uncond_mask] * batch_size,\n",
        "        dtype=th.bool,\n",
        "        device=device,\n",
        "    ),\n",
        "\n",
        "    # Masked inpainting image\n",
        "    inpaint_image=(source_image_64 * source_mask_64).repeat(full_batch_size, 1, 1, 1).to(device),\n",
        "    inpaint_mask=source_mask_64.repeat(full_batch_size, 1, 1, 1).to(device),\n",
        ")"
      ]
    },
    {
      "cell_type": "markdown",
      "metadata": {
        "id": "cLWwyS9YXW5P"
      },
      "source": [
        "Implement a classifier-free guidance sampling function."
      ]
    },
    {
      "cell_type": "code",
      "execution_count": null,
      "metadata": {
        "id": "h0licmyMXhOm"
      },
      "outputs": [],
      "source": [
        "def model_fn(x_t, ts, **kwargs):\n",
        "    half = x_t[: len(x_t) // 2]\n",
        "    combined = th.cat([half, half], dim=0)\n",
        "    model_out = model(combined, ts, **kwargs)\n",
        "    eps, rest = model_out[:, :3], model_out[:, 3:]\n",
        "    cond_eps, uncond_eps = th.split(eps, len(eps) // 2, dim=0)\n",
        "    half_eps = uncond_eps + guidance_scale * (cond_eps - uncond_eps)\n",
        "    eps = th.cat([half_eps, half_eps], dim=0)\n",
        "    return th.cat([eps, rest], dim=1)\n",
        "\n",
        "def denoised_fn(x_start):\n",
        "    # Force the model to have the exact right x_start predictions\n",
        "    # for the part of the image which is known.\n",
        "    return (\n",
        "        x_start * (1 - model_kwargs['inpaint_mask'])\n",
        "        + model_kwargs['inpaint_image'] * model_kwargs['inpaint_mask']\n",
        "    )"
      ]
    },
    {
      "cell_type": "markdown",
      "metadata": {
        "id": "n17tjTn2XkDm"
      },
      "source": [
        "Sample from the base model."
      ]
    },
    {
      "cell_type": "code",
      "execution_count": null,
      "metadata": {
        "id": "A5HNjpTZXmXT"
      },
      "outputs": [],
      "source": [
        "model.del_cache()\n",
        "samples = diffusion.p_sample_loop(\n",
        "    model_fn,\n",
        "    (full_batch_size, 3, options[\"image_size\"], options[\"image_size\"]),\n",
        "    device=device,\n",
        "    clip_denoised=True,\n",
        "    progress=True,\n",
        "    model_kwargs=model_kwargs,\n",
        "    cond_fn=None,\n",
        "    denoised_fn=denoised_fn,\n",
        ")[:batch_size]\n",
        "model.del_cache()"
      ]
    },
    {
      "cell_type": "markdown",
      "metadata": {
        "id": "D1jVDNp3Xopz"
      },
      "source": [
        "Display the result."
      ]
    },
    {
      "cell_type": "code",
      "execution_count": null,
      "metadata": {
        "id": "U3zyb7ZSXq9G"
      },
      "outputs": [],
      "source": [
        "show_images(samples)"
      ]
    },
    {
      "cell_type": "markdown",
      "metadata": {
        "id": "P5oh2FEOctjY"
      },
      "source": [
        "## Upsampling the 64x64 Samples"
      ]
    },
    {
      "cell_type": "markdown",
      "metadata": {
        "id": "yxqVXknLc48Y"
      },
      "source": [
        "Create the text tokens to feed to the model."
      ]
    },
    {
      "cell_type": "code",
      "execution_count": null,
      "metadata": {
        "id": "GLzLkpYYc5XK"
      },
      "outputs": [],
      "source": [
        "tokens = model_up.tokenizer.encode(prompt)\n",
        "tokens, mask = model_up.tokenizer.padded_tokens_and_mask(\n",
        "    tokens, options_up['text_ctx']\n",
        ")"
      ]
    },
    {
      "cell_type": "markdown",
      "metadata": {
        "id": "_SrUnYoFc9d_"
      },
      "source": [
        "Create the model conditioning dict."
      ]
    },
    {
      "cell_type": "code",
      "execution_count": null,
      "metadata": {
        "id": "dGmpnWJsdBGk"
      },
      "outputs": [],
      "source": [
        "model_kwargs = dict(\n",
        "    # Low-res image to upsample.\n",
        "    low_res=((samples+1)*127.5).round()/127.5 - 1,\n",
        "\n",
        "    # Text tokens\n",
        "    tokens=th.tensor(\n",
        "        [tokens] * batch_size, device=device\n",
        "    ),\n",
        "    mask=th.tensor(\n",
        "        [mask] * batch_size,\n",
        "        dtype=th.bool,\n",
        "        device=device,\n",
        "    ),\n",
        "\n",
        "    # Masked inpainting image.\n",
        "    inpaint_image=(source_image_256 * source_mask_256).repeat(batch_size, 1, 1, 1).to(device),\n",
        "    inpaint_mask=source_mask_256.repeat(batch_size, 1, 1, 1).to(device),\n",
        ")"
      ]
    },
    {
      "cell_type": "markdown",
      "metadata": {
        "id": "7EEStB1edEKF"
      },
      "source": [
        "Define a function to force the model to have the exact right *x_start* predictions for the part of the image which is known."
      ]
    },
    {
      "cell_type": "code",
      "execution_count": null,
      "metadata": {
        "id": "kW1aW-TLdIiQ"
      },
      "outputs": [],
      "source": [
        "def denoised_fn(x_start):\n",
        "    return (\n",
        "        x_start * (1 - model_kwargs['inpaint_mask'])\n",
        "        + model_kwargs['inpaint_image'] * model_kwargs['inpaint_mask']\n",
        "    )"
      ]
    },
    {
      "cell_type": "markdown",
      "metadata": {
        "id": "UQYuyP3AdTnu"
      },
      "source": [
        "Sampling."
      ]
    },
    {
      "cell_type": "code",
      "execution_count": null,
      "metadata": {
        "id": "jmfgG1IzgR6L"
      },
      "outputs": [],
      "source": [
        "model_up.del_cache()\n",
        "up_shape = (batch_size, 3, options_up[\"image_size\"], options_up[\"image_size\"])\n",
        "up_samples = diffusion_up.p_sample_loop(\n",
        "    model_up,\n",
        "    up_shape,\n",
        "    noise=th.randn(up_shape, device=device) * upsample_temp,\n",
        "    device=device,\n",
        "    clip_denoised=True,\n",
        "    progress=True,\n",
        "    model_kwargs=model_kwargs,\n",
        "    cond_fn=None,\n",
        "    denoised_fn=denoised_fn,\n",
        ")[:batch_size]\n",
        "model_up.del_cache()"
      ]
    },
    {
      "cell_type": "markdown",
      "metadata": {
        "id": "zE9lMJNqdeBu"
      },
      "source": [
        "Display the result."
      ]
    },
    {
      "cell_type": "code",
      "execution_count": null,
      "metadata": {
        "id": "yFuC4hdKdl17"
      },
      "outputs": [],
      "source": [
        "show_images(up_samples)"
      ]
    },
    {
      "cell_type": "code",
      "execution_count": null,
      "metadata": {
        "id": "LhxpfMyBkJ49"
      },
      "outputs": [],
      "source": [
        "import cv2\n",
        "import numpy as np\n",
        "import torch\n",
        "\n",
        "def save_image(image_array, filename=\"img.png\"):\n",
        "    # If image_array is a PyTorch tensor, convert it to a NumPy array\n",
        "    if isinstance(image_array, torch.Tensor):\n",
        "        # Remove the batch dimension (from [1, 3, 256, 256] to [3, 256, 256])\n",
        "        image_array = image_array.squeeze(0)\n",
        "\n",
        "        # Move to CPU, detach, convert to NumPy, and transpose to HWC format\n",
        "        image_array = image_array.detach().cpu().numpy().transpose(1, 2, 0)\n",
        "\n",
        "    # Ensure the image is in uint8 format and in [0, 255] range\n",
        "    if image_array.max() <= 1.0:\n",
        "        image_array = (image_array * 255).astype(np.uint8)\n",
        "    else:\n",
        "        image_array = image_array.astype(np.uint8)\n",
        "\n",
        "    # Save the image using OpenCV\n",
        "    success = cv2.imwrite(filename, image_array)\n",
        "    if success:\n",
        "        print(f\"Image saved as {filename}\")\n",
        "    else:\n",
        "        print(\"Failed to save the image. Please check the image format and path.\")\n",
        "\n",
        "\n",
        "# Save the image\n",
        "save_image(up_samples, \"/content/inpainted_img.png\")\n",
        "save_image(source_image_256, \"/content/original_image.png\")\n"
      ]
    },
    {
      "cell_type": "code",
      "execution_count": null,
      "metadata": {
        "id": "hhEXMvEWe15L"
      },
      "outputs": [],
      "source": [
        "!pip install scikit-image"
      ]
    },
    {
      "cell_type": "code",
      "execution_count": null,
      "metadata": {
        "id": "0uuWePBigMYa"
      },
      "outputs": [],
      "source": [
        "import sys, os\n",
        "import math\n",
        "import tensorflow as tf\n",
        "import numpy as np\n",
        "import pandas as pd\n",
        "import cv2\n",
        "import matplotlib as mpl\n",
        "import matplotlib.pyplot as plt\n",
        "import skimage"
      ]
    },
    {
      "cell_type": "code",
      "execution_count": null,
      "metadata": {
        "id": "FWev7kijjkFZ"
      },
      "outputs": [],
      "source": [
        "from math import log10, sqrt\n",
        "import cv2\n",
        "import numpy as np\n",
        "from skimage.metrics import structural_similarity as ssim\n",
        "\n",
        "def PSNR(original, compressed):\n",
        "    mse = np.mean((original - compressed) ** 2)\n",
        "    if mse == 0:  # MSE is zero means no noise is present in the signal\n",
        "        return 100\n",
        "    max_pixel = 255.0\n",
        "    psnr = 20 * log10(max_pixel / sqrt(mse))\n",
        "    return psnr\n",
        "\n",
        "def calculate_ssim(original, compressed):\n",
        "    # Convert images to grayscale if needed for SSIM calculation\n",
        "    original_gray = cv2.cvtColor(original, cv2.COLOR_BGR2GRAY)\n",
        "    compressed_gray = cv2.cvtColor(compressed, cv2.COLOR_BGR2GRAY)\n",
        "    score, _ = ssim(original_gray, compressed_gray, full=True)\n",
        "    return score\n",
        "\n",
        "def main():\n",
        "    # Load images with correct paths and extensions\n",
        "    original = cv2.imread(\"/content/original_image.png\")\n",
        "    compressed = cv2.imread(\"/content/inpainted_img.png\")\n",
        "\n",
        "    # Check if images were loaded successfully\n",
        "    if original is None or compressed is None:\n",
        "        print(\"Error: One or both image files could not be loaded. Please check the file paths.\")\n",
        "        return\n",
        "\n",
        "    # Resize original to match the compressed image's dimensions\n",
        "    original_resized = cv2.resize(original, (compressed.shape[1], compressed.shape[0]))\n",
        "\n",
        "    # Calculate PSNR\n",
        "    psnr_value = PSNR(original_resized, compressed)\n",
        "    print(f\"PSNR value is {psnr_value} dB\")\n",
        "\n",
        "    # Calculate SSIM\n",
        "    ssim_value = calculate_ssim(original_resized, compressed)\n",
        "    print(f\"SSIM value is {ssim_value}\")\n",
        "\n",
        "if __name__ == \"__main__\":\n",
        "    main()\n"
      ]
    }
  ],
  "metadata": {
    "accelerator": "GPU",
    "colab": {
      "provenance": [],
      "include_colab_link": true
    },
    "kernelspec": {
      "display_name": "Python 3",
      "name": "python3"
    },
    "language_info": {
      "name": "python"
    },
    "widgets": {
      "application/vnd.jupyter.widget-state+json": {
        "c6527135082946b091dceed095520210": {
          "model_module": "@jupyter-widgets/controls",
          "model_name": "HBoxModel",
          "model_module_version": "1.5.0",
          "state": {
            "_dom_classes": [],
            "_model_module": "@jupyter-widgets/controls",
            "_model_module_version": "1.5.0",
            "_model_name": "HBoxModel",
            "_view_count": null,
            "_view_module": "@jupyter-widgets/controls",
            "_view_module_version": "1.5.0",
            "_view_name": "HBoxView",
            "box_style": "",
            "children": [
              "IPY_MODEL_0bcffa76e96c4c1db25f56d54a8a922c",
              "IPY_MODEL_35af0c32645e4b3a86c17c1dcdf3c8f4",
              "IPY_MODEL_ad93da34f678488fbe8e3a160532c663"
            ],
            "layout": "IPY_MODEL_93132e6531284af98ad02b62866bbcb3"
          }
        },
        "0bcffa76e96c4c1db25f56d54a8a922c": {
          "model_module": "@jupyter-widgets/controls",
          "model_name": "HTMLModel",
          "model_module_version": "1.5.0",
          "state": {
            "_dom_classes": [],
            "_model_module": "@jupyter-widgets/controls",
            "_model_module_version": "1.5.0",
            "_model_name": "HTMLModel",
            "_view_count": null,
            "_view_module": "@jupyter-widgets/controls",
            "_view_module_version": "1.5.0",
            "_view_name": "HTMLView",
            "description": "",
            "description_tooltip": null,
            "layout": "IPY_MODEL_3fa8f5dece854bc7bf557faa24dabdba",
            "placeholder": "​",
            "style": "IPY_MODEL_ca0ea006318e46759b295dbba008cb68",
            "value": "100%"
          }
        },
        "35af0c32645e4b3a86c17c1dcdf3c8f4": {
          "model_module": "@jupyter-widgets/controls",
          "model_name": "FloatProgressModel",
          "model_module_version": "1.5.0",
          "state": {
            "_dom_classes": [],
            "_model_module": "@jupyter-widgets/controls",
            "_model_module_version": "1.5.0",
            "_model_name": "FloatProgressModel",
            "_view_count": null,
            "_view_module": "@jupyter-widgets/controls",
            "_view_module_version": "1.5.0",
            "_view_name": "ProgressView",
            "bar_style": "success",
            "description": "",
            "description_tooltip": null,
            "layout": "IPY_MODEL_d44742b5b52c4cc29c36a2fb6d2291bf",
            "max": 1540394339,
            "min": 0,
            "orientation": "horizontal",
            "style": "IPY_MODEL_64193c653054451ab5e73287361e780a",
            "value": 1540394339
          }
        },
        "ad93da34f678488fbe8e3a160532c663": {
          "model_module": "@jupyter-widgets/controls",
          "model_name": "HTMLModel",
          "model_module_version": "1.5.0",
          "state": {
            "_dom_classes": [],
            "_model_module": "@jupyter-widgets/controls",
            "_model_module_version": "1.5.0",
            "_model_name": "HTMLModel",
            "_view_count": null,
            "_view_module": "@jupyter-widgets/controls",
            "_view_module_version": "1.5.0",
            "_view_name": "HTMLView",
            "description": "",
            "description_tooltip": null,
            "layout": "IPY_MODEL_ba21beef146f4b89a13dae47b0ad317e",
            "placeholder": "​",
            "style": "IPY_MODEL_5e1ebd21240c45d9ba258443cefed693",
            "value": " 1.54G/1.54G [02:09&lt;00:00, 12.1MiB/s]"
          }
        },
        "93132e6531284af98ad02b62866bbcb3": {
          "model_module": "@jupyter-widgets/base",
          "model_name": "LayoutModel",
          "model_module_version": "1.2.0",
          "state": {
            "_model_module": "@jupyter-widgets/base",
            "_model_module_version": "1.2.0",
            "_model_name": "LayoutModel",
            "_view_count": null,
            "_view_module": "@jupyter-widgets/base",
            "_view_module_version": "1.2.0",
            "_view_name": "LayoutView",
            "align_content": null,
            "align_items": null,
            "align_self": null,
            "border": null,
            "bottom": null,
            "display": null,
            "flex": null,
            "flex_flow": null,
            "grid_area": null,
            "grid_auto_columns": null,
            "grid_auto_flow": null,
            "grid_auto_rows": null,
            "grid_column": null,
            "grid_gap": null,
            "grid_row": null,
            "grid_template_areas": null,
            "grid_template_columns": null,
            "grid_template_rows": null,
            "height": null,
            "justify_content": null,
            "justify_items": null,
            "left": null,
            "margin": null,
            "max_height": null,
            "max_width": null,
            "min_height": null,
            "min_width": null,
            "object_fit": null,
            "object_position": null,
            "order": null,
            "overflow": null,
            "overflow_x": null,
            "overflow_y": null,
            "padding": null,
            "right": null,
            "top": null,
            "visibility": null,
            "width": null
          }
        },
        "3fa8f5dece854bc7bf557faa24dabdba": {
          "model_module": "@jupyter-widgets/base",
          "model_name": "LayoutModel",
          "model_module_version": "1.2.0",
          "state": {
            "_model_module": "@jupyter-widgets/base",
            "_model_module_version": "1.2.0",
            "_model_name": "LayoutModel",
            "_view_count": null,
            "_view_module": "@jupyter-widgets/base",
            "_view_module_version": "1.2.0",
            "_view_name": "LayoutView",
            "align_content": null,
            "align_items": null,
            "align_self": null,
            "border": null,
            "bottom": null,
            "display": null,
            "flex": null,
            "flex_flow": null,
            "grid_area": null,
            "grid_auto_columns": null,
            "grid_auto_flow": null,
            "grid_auto_rows": null,
            "grid_column": null,
            "grid_gap": null,
            "grid_row": null,
            "grid_template_areas": null,
            "grid_template_columns": null,
            "grid_template_rows": null,
            "height": null,
            "justify_content": null,
            "justify_items": null,
            "left": null,
            "margin": null,
            "max_height": null,
            "max_width": null,
            "min_height": null,
            "min_width": null,
            "object_fit": null,
            "object_position": null,
            "order": null,
            "overflow": null,
            "overflow_x": null,
            "overflow_y": null,
            "padding": null,
            "right": null,
            "top": null,
            "visibility": null,
            "width": null
          }
        },
        "ca0ea006318e46759b295dbba008cb68": {
          "model_module": "@jupyter-widgets/controls",
          "model_name": "DescriptionStyleModel",
          "model_module_version": "1.5.0",
          "state": {
            "_model_module": "@jupyter-widgets/controls",
            "_model_module_version": "1.5.0",
            "_model_name": "DescriptionStyleModel",
            "_view_count": null,
            "_view_module": "@jupyter-widgets/base",
            "_view_module_version": "1.2.0",
            "_view_name": "StyleView",
            "description_width": ""
          }
        },
        "d44742b5b52c4cc29c36a2fb6d2291bf": {
          "model_module": "@jupyter-widgets/base",
          "model_name": "LayoutModel",
          "model_module_version": "1.2.0",
          "state": {
            "_model_module": "@jupyter-widgets/base",
            "_model_module_version": "1.2.0",
            "_model_name": "LayoutModel",
            "_view_count": null,
            "_view_module": "@jupyter-widgets/base",
            "_view_module_version": "1.2.0",
            "_view_name": "LayoutView",
            "align_content": null,
            "align_items": null,
            "align_self": null,
            "border": null,
            "bottom": null,
            "display": null,
            "flex": null,
            "flex_flow": null,
            "grid_area": null,
            "grid_auto_columns": null,
            "grid_auto_flow": null,
            "grid_auto_rows": null,
            "grid_column": null,
            "grid_gap": null,
            "grid_row": null,
            "grid_template_areas": null,
            "grid_template_columns": null,
            "grid_template_rows": null,
            "height": null,
            "justify_content": null,
            "justify_items": null,
            "left": null,
            "margin": null,
            "max_height": null,
            "max_width": null,
            "min_height": null,
            "min_width": null,
            "object_fit": null,
            "object_position": null,
            "order": null,
            "overflow": null,
            "overflow_x": null,
            "overflow_y": null,
            "padding": null,
            "right": null,
            "top": null,
            "visibility": null,
            "width": null
          }
        },
        "64193c653054451ab5e73287361e780a": {
          "model_module": "@jupyter-widgets/controls",
          "model_name": "ProgressStyleModel",
          "model_module_version": "1.5.0",
          "state": {
            "_model_module": "@jupyter-widgets/controls",
            "_model_module_version": "1.5.0",
            "_model_name": "ProgressStyleModel",
            "_view_count": null,
            "_view_module": "@jupyter-widgets/base",
            "_view_module_version": "1.2.0",
            "_view_name": "StyleView",
            "bar_color": null,
            "description_width": ""
          }
        },
        "ba21beef146f4b89a13dae47b0ad317e": {
          "model_module": "@jupyter-widgets/base",
          "model_name": "LayoutModel",
          "model_module_version": "1.2.0",
          "state": {
            "_model_module": "@jupyter-widgets/base",
            "_model_module_version": "1.2.0",
            "_model_name": "LayoutModel",
            "_view_count": null,
            "_view_module": "@jupyter-widgets/base",
            "_view_module_version": "1.2.0",
            "_view_name": "LayoutView",
            "align_content": null,
            "align_items": null,
            "align_self": null,
            "border": null,
            "bottom": null,
            "display": null,
            "flex": null,
            "flex_flow": null,
            "grid_area": null,
            "grid_auto_columns": null,
            "grid_auto_flow": null,
            "grid_auto_rows": null,
            "grid_column": null,
            "grid_gap": null,
            "grid_row": null,
            "grid_template_areas": null,
            "grid_template_columns": null,
            "grid_template_rows": null,
            "height": null,
            "justify_content": null,
            "justify_items": null,
            "left": null,
            "margin": null,
            "max_height": null,
            "max_width": null,
            "min_height": null,
            "min_width": null,
            "object_fit": null,
            "object_position": null,
            "order": null,
            "overflow": null,
            "overflow_x": null,
            "overflow_y": null,
            "padding": null,
            "right": null,
            "top": null,
            "visibility": null,
            "width": null
          }
        },
        "5e1ebd21240c45d9ba258443cefed693": {
          "model_module": "@jupyter-widgets/controls",
          "model_name": "DescriptionStyleModel",
          "model_module_version": "1.5.0",
          "state": {
            "_model_module": "@jupyter-widgets/controls",
            "_model_module_version": "1.5.0",
            "_model_name": "DescriptionStyleModel",
            "_view_count": null,
            "_view_module": "@jupyter-widgets/base",
            "_view_module_version": "1.2.0",
            "_view_name": "StyleView",
            "description_width": ""
          }
        },
        "ba09b074c27845d8844d5ca70db083d9": {
          "model_module": "@jupyter-widgets/controls",
          "model_name": "HBoxModel",
          "model_module_version": "1.5.0",
          "state": {
            "_dom_classes": [],
            "_model_module": "@jupyter-widgets/controls",
            "_model_module_version": "1.5.0",
            "_model_name": "HBoxModel",
            "_view_count": null,
            "_view_module": "@jupyter-widgets/controls",
            "_view_module_version": "1.5.0",
            "_view_name": "HBoxView",
            "box_style": "",
            "children": [
              "IPY_MODEL_b428a188aa2f4df49848f76898d9846b",
              "IPY_MODEL_a8f36f5a41354c2c8dce785158230b2b",
              "IPY_MODEL_24ce1f81a92744568d95b3bb09742d2c"
            ],
            "layout": "IPY_MODEL_be3fc6e8e8bf407f9f6df57d12e49c66"
          }
        },
        "b428a188aa2f4df49848f76898d9846b": {
          "model_module": "@jupyter-widgets/controls",
          "model_name": "HTMLModel",
          "model_module_version": "1.5.0",
          "state": {
            "_dom_classes": [],
            "_model_module": "@jupyter-widgets/controls",
            "_model_module_version": "1.5.0",
            "_model_name": "HTMLModel",
            "_view_count": null,
            "_view_module": "@jupyter-widgets/controls",
            "_view_module_version": "1.5.0",
            "_view_name": "HTMLView",
            "description": "",
            "description_tooltip": null,
            "layout": "IPY_MODEL_d97213101322498986d3db3339ca5538",
            "placeholder": "​",
            "style": "IPY_MODEL_52e69a13d4bc407bbe11fa514f1390f9",
            "value": " 31%"
          }
        },
        "a8f36f5a41354c2c8dce785158230b2b": {
          "model_module": "@jupyter-widgets/controls",
          "model_name": "FloatProgressModel",
          "model_module_version": "1.5.0",
          "state": {
            "_dom_classes": [],
            "_model_module": "@jupyter-widgets/controls",
            "_model_module_version": "1.5.0",
            "_model_name": "FloatProgressModel",
            "_view_count": null,
            "_view_module": "@jupyter-widgets/controls",
            "_view_module_version": "1.5.0",
            "_view_name": "ProgressView",
            "bar_style": "",
            "description": "",
            "description_tooltip": null,
            "layout": "IPY_MODEL_6928d040b00e4ebab646e8370bdcd4b0",
            "max": 1593721287,
            "min": 0,
            "orientation": "horizontal",
            "style": "IPY_MODEL_7a3ddeb92f6e4a57b2f0c61039a2823f",
            "value": 494489600
          }
        },
        "24ce1f81a92744568d95b3bb09742d2c": {
          "model_module": "@jupyter-widgets/controls",
          "model_name": "HTMLModel",
          "model_module_version": "1.5.0",
          "state": {
            "_dom_classes": [],
            "_model_module": "@jupyter-widgets/controls",
            "_model_module_version": "1.5.0",
            "_model_name": "HTMLModel",
            "_view_count": null,
            "_view_module": "@jupyter-widgets/controls",
            "_view_module_version": "1.5.0",
            "_view_name": "HTMLView",
            "description": "",
            "description_tooltip": null,
            "layout": "IPY_MODEL_11bcf2ed96174227ad9411ab8b4b70ba",
            "placeholder": "​",
            "style": "IPY_MODEL_475b51ae3012430b99be4dde9cee1f92",
            "value": " 494M/1.59G [00:46&lt;01:25, 12.9MiB/s]"
          }
        },
        "be3fc6e8e8bf407f9f6df57d12e49c66": {
          "model_module": "@jupyter-widgets/base",
          "model_name": "LayoutModel",
          "model_module_version": "1.2.0",
          "state": {
            "_model_module": "@jupyter-widgets/base",
            "_model_module_version": "1.2.0",
            "_model_name": "LayoutModel",
            "_view_count": null,
            "_view_module": "@jupyter-widgets/base",
            "_view_module_version": "1.2.0",
            "_view_name": "LayoutView",
            "align_content": null,
            "align_items": null,
            "align_self": null,
            "border": null,
            "bottom": null,
            "display": null,
            "flex": null,
            "flex_flow": null,
            "grid_area": null,
            "grid_auto_columns": null,
            "grid_auto_flow": null,
            "grid_auto_rows": null,
            "grid_column": null,
            "grid_gap": null,
            "grid_row": null,
            "grid_template_areas": null,
            "grid_template_columns": null,
            "grid_template_rows": null,
            "height": null,
            "justify_content": null,
            "justify_items": null,
            "left": null,
            "margin": null,
            "max_height": null,
            "max_width": null,
            "min_height": null,
            "min_width": null,
            "object_fit": null,
            "object_position": null,
            "order": null,
            "overflow": null,
            "overflow_x": null,
            "overflow_y": null,
            "padding": null,
            "right": null,
            "top": null,
            "visibility": null,
            "width": null
          }
        },
        "d97213101322498986d3db3339ca5538": {
          "model_module": "@jupyter-widgets/base",
          "model_name": "LayoutModel",
          "model_module_version": "1.2.0",
          "state": {
            "_model_module": "@jupyter-widgets/base",
            "_model_module_version": "1.2.0",
            "_model_name": "LayoutModel",
            "_view_count": null,
            "_view_module": "@jupyter-widgets/base",
            "_view_module_version": "1.2.0",
            "_view_name": "LayoutView",
            "align_content": null,
            "align_items": null,
            "align_self": null,
            "border": null,
            "bottom": null,
            "display": null,
            "flex": null,
            "flex_flow": null,
            "grid_area": null,
            "grid_auto_columns": null,
            "grid_auto_flow": null,
            "grid_auto_rows": null,
            "grid_column": null,
            "grid_gap": null,
            "grid_row": null,
            "grid_template_areas": null,
            "grid_template_columns": null,
            "grid_template_rows": null,
            "height": null,
            "justify_content": null,
            "justify_items": null,
            "left": null,
            "margin": null,
            "max_height": null,
            "max_width": null,
            "min_height": null,
            "min_width": null,
            "object_fit": null,
            "object_position": null,
            "order": null,
            "overflow": null,
            "overflow_x": null,
            "overflow_y": null,
            "padding": null,
            "right": null,
            "top": null,
            "visibility": null,
            "width": null
          }
        },
        "52e69a13d4bc407bbe11fa514f1390f9": {
          "model_module": "@jupyter-widgets/controls",
          "model_name": "DescriptionStyleModel",
          "model_module_version": "1.5.0",
          "state": {
            "_model_module": "@jupyter-widgets/controls",
            "_model_module_version": "1.5.0",
            "_model_name": "DescriptionStyleModel",
            "_view_count": null,
            "_view_module": "@jupyter-widgets/base",
            "_view_module_version": "1.2.0",
            "_view_name": "StyleView",
            "description_width": ""
          }
        },
        "6928d040b00e4ebab646e8370bdcd4b0": {
          "model_module": "@jupyter-widgets/base",
          "model_name": "LayoutModel",
          "model_module_version": "1.2.0",
          "state": {
            "_model_module": "@jupyter-widgets/base",
            "_model_module_version": "1.2.0",
            "_model_name": "LayoutModel",
            "_view_count": null,
            "_view_module": "@jupyter-widgets/base",
            "_view_module_version": "1.2.0",
            "_view_name": "LayoutView",
            "align_content": null,
            "align_items": null,
            "align_self": null,
            "border": null,
            "bottom": null,
            "display": null,
            "flex": null,
            "flex_flow": null,
            "grid_area": null,
            "grid_auto_columns": null,
            "grid_auto_flow": null,
            "grid_auto_rows": null,
            "grid_column": null,
            "grid_gap": null,
            "grid_row": null,
            "grid_template_areas": null,
            "grid_template_columns": null,
            "grid_template_rows": null,
            "height": null,
            "justify_content": null,
            "justify_items": null,
            "left": null,
            "margin": null,
            "max_height": null,
            "max_width": null,
            "min_height": null,
            "min_width": null,
            "object_fit": null,
            "object_position": null,
            "order": null,
            "overflow": null,
            "overflow_x": null,
            "overflow_y": null,
            "padding": null,
            "right": null,
            "top": null,
            "visibility": null,
            "width": null
          }
        },
        "7a3ddeb92f6e4a57b2f0c61039a2823f": {
          "model_module": "@jupyter-widgets/controls",
          "model_name": "ProgressStyleModel",
          "model_module_version": "1.5.0",
          "state": {
            "_model_module": "@jupyter-widgets/controls",
            "_model_module_version": "1.5.0",
            "_model_name": "ProgressStyleModel",
            "_view_count": null,
            "_view_module": "@jupyter-widgets/base",
            "_view_module_version": "1.2.0",
            "_view_name": "StyleView",
            "bar_color": null,
            "description_width": ""
          }
        },
        "11bcf2ed96174227ad9411ab8b4b70ba": {
          "model_module": "@jupyter-widgets/base",
          "model_name": "LayoutModel",
          "model_module_version": "1.2.0",
          "state": {
            "_model_module": "@jupyter-widgets/base",
            "_model_module_version": "1.2.0",
            "_model_name": "LayoutModel",
            "_view_count": null,
            "_view_module": "@jupyter-widgets/base",
            "_view_module_version": "1.2.0",
            "_view_name": "LayoutView",
            "align_content": null,
            "align_items": null,
            "align_self": null,
            "border": null,
            "bottom": null,
            "display": null,
            "flex": null,
            "flex_flow": null,
            "grid_area": null,
            "grid_auto_columns": null,
            "grid_auto_flow": null,
            "grid_auto_rows": null,
            "grid_column": null,
            "grid_gap": null,
            "grid_row": null,
            "grid_template_areas": null,
            "grid_template_columns": null,
            "grid_template_rows": null,
            "height": null,
            "justify_content": null,
            "justify_items": null,
            "left": null,
            "margin": null,
            "max_height": null,
            "max_width": null,
            "min_height": null,
            "min_width": null,
            "object_fit": null,
            "object_position": null,
            "order": null,
            "overflow": null,
            "overflow_x": null,
            "overflow_y": null,
            "padding": null,
            "right": null,
            "top": null,
            "visibility": null,
            "width": null
          }
        },
        "475b51ae3012430b99be4dde9cee1f92": {
          "model_module": "@jupyter-widgets/controls",
          "model_name": "DescriptionStyleModel",
          "model_module_version": "1.5.0",
          "state": {
            "_model_module": "@jupyter-widgets/controls",
            "_model_module_version": "1.5.0",
            "_model_name": "DescriptionStyleModel",
            "_view_count": null,
            "_view_module": "@jupyter-widgets/base",
            "_view_module_version": "1.2.0",
            "_view_name": "StyleView",
            "description_width": ""
          }
        }
      }
    }
  },
  "nbformat": 4,
  "nbformat_minor": 0
}